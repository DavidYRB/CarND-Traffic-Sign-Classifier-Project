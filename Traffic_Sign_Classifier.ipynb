{
 "cells": [
  {
   "cell_type": "markdown",
   "metadata": {},
   "source": [
    "# Self-Driving Car Engineer Nanodegree\n",
    "\n",
    "## Deep Learning\n",
    "\n",
    "## Project: Build a Traffic Sign Recognition Classifier\n",
    "\n",
    "In this notebook, a template is provided for you to implement your functionality in stages, which is required to successfully complete this project. If additional code is required that cannot be included in the notebook, be sure that the Python code is successfully imported and included in your submission if necessary. \n",
    "\n",
    "> **Note**: Once you have completed all of the code implementations, you need to finalize your work by exporting the iPython Notebook as an HTML document. Before exporting the notebook to html, all of the code cells need to have been run so that reviewers can see the final implementation and output. You can then export the notebook by using the menu above and navigating to  \\n\",\n",
    "    \"**File -> Download as -> HTML (.html)**. Include the finished document along with this notebook as your submission. \n",
    "\n",
    "In addition to implementing code, there is a writeup to complete. The writeup should be completed in a separate file, which can be either a markdown file or a pdf document. There is a [write up template](https://github.com/udacity/CarND-Traffic-Sign-Classifier-Project/blob/master/writeup_template.md) that can be used to guide the writing process. Completing the code template and writeup template will cover all of the [rubric points](https://review.udacity.com/#!/rubrics/481/view) for this project.\n",
    "\n",
    "The [rubric](https://review.udacity.com/#!/rubrics/481/view) contains \"Stand Out Suggestions\" for enhancing the project beyond the minimum requirements. The stand out suggestions are optional. If you decide to pursue the \"stand out suggestions\", you can include the code in this Ipython notebook and also discuss the results in the writeup file.\n",
    "\n",
    "\n",
    ">**Note:** Code and Markdown cells can be executed using the **Shift + Enter** keyboard shortcut. In addition, Markdown cells can be edited by typically double-clicking the cell to enter edit mode."
   ]
  },
  {
   "cell_type": "markdown",
   "metadata": {},
   "source": [
    "---\n",
    "## Step 0: Load The Data"
   ]
  },
  {
   "cell_type": "code",
   "execution_count": 1,
   "metadata": {
    "collapsed": true
   },
   "outputs": [],
   "source": [
    "# Load pickled data\n",
    "import pickle\n",
    "import numpy as np\n",
    "from sklearn.utils import shuffle\n",
    "# TODO: Fill this in based on where you saved the training and testing data\n",
    "\n",
    "training_file = 'train.p'\n",
    "validation_file= 'valid.p'\n",
    "testing_file = 'test.p'\n",
    "\n",
    "with open(training_file, mode='rb') as f:\n",
    "    train = pickle.load(f)\n",
    "with open(validation_file, mode='rb') as f:\n",
    "    valid = pickle.load(f)\n",
    "with open(testing_file, mode='rb') as f:\n",
    "    test = pickle.load(f)\n",
    "    \n",
    "X_train, y_train = train['features'], train['labels']\n",
    "X_valid, y_valid = valid['features'], valid['labels']\n",
    "X_test, y_test = test['features'], test['labels']\n"
   ]
  },
  {
   "cell_type": "markdown",
   "metadata": {},
   "source": [
    "---\n",
    "\n",
    "## Step 1: Dataset Summary & Exploration\n",
    "\n",
    "The pickled data is a dictionary with 4 key/value pairs:\n",
    "\n",
    "- `'features'` is a 4D array containing raw pixel data of the traffic sign images, (num examples, width, height, channels).\n",
    "- `'labels'` is a 1D array containing the label/class id of the traffic sign. The file `signnames.csv` contains id -> name mappings for each id.\n",
    "- `'sizes'` is a list containing tuples, (width, height) representing the original width and height the image.\n",
    "- `'coords'` is a list containing tuples, (x1, y1, x2, y2) representing coordinates of a bounding box around the sign in the image. **THESE COORDINATES ASSUME THE ORIGINAL IMAGE. THE PICKLED DATA CONTAINS RESIZED VERSIONS (32 by 32) OF THESE IMAGES**\n",
    "\n",
    "Complete the basic data summary below. Use python, numpy and/or pandas methods to calculate the data summary rather than hard coding the results. For example, the [pandas shape method](http://pandas.pydata.org/pandas-docs/stable/generated/pandas.DataFrame.shape.html) might be useful for calculating some of the summary results. "
   ]
  },
  {
   "cell_type": "markdown",
   "metadata": {},
   "source": [
    "### Provide a Basic Summary of the Data Set Using Python, Numpy and/or Pandas"
   ]
  },
  {
   "cell_type": "code",
   "execution_count": 2,
   "metadata": {},
   "outputs": [
    {
     "name": "stdout",
     "output_type": "stream",
     "text": [
      "Number of training examples = 34799\n",
      "Number of testing examples = 12630\n",
      "Image data shape = (32, 32)\n",
      "Number of classes = (43,)\n"
     ]
    }
   ],
   "source": [
    "### Replace each question mark with the appropriate value. \n",
    "### Use python, pandas or numpy methods rather than hard coding the results\n",
    "import pandas \n",
    "# TODO: Number of training examples\n",
    "n_train = np.shape(X_train)[0]\n",
    "\n",
    "# TODO: Number of validation examples\n",
    "n_validation = np.shape(X_valid)[0]\n",
    "\n",
    "# TODO: Number of testing examples.\n",
    "n_test = np.shape(X_test)[0]\n",
    "\n",
    "# TODO: What's the shape of an traffic sign image?\n",
    "image_shape = np.shape(X_test)[1:3]\n",
    "\n",
    "# TODO: How many unique classes/labels there are in the dataset.\n",
    "n_classes = np.shape(np.unique(y_train))\n",
    "\n",
    "print(\"Number of training examples =\", n_train)\n",
    "print(\"Number of testing examples =\", n_test)\n",
    "print(\"Image data shape =\", image_shape)\n",
    "print(\"Number of classes =\", n_classes)"
   ]
  },
  {
   "cell_type": "markdown",
   "metadata": {},
   "source": [
    "### Include an exploratory visualization of the dataset"
   ]
  },
  {
   "cell_type": "markdown",
   "metadata": {},
   "source": [
    "Visualize the German Traffic Signs Dataset using the pickled file(s). This is open ended, suggestions include: plotting traffic sign images, plotting the count of each sign, etc. \n",
    "\n",
    "The [Matplotlib](http://matplotlib.org/) [examples](http://matplotlib.org/examples/index.html) and [gallery](http://matplotlib.org/gallery.html) pages are a great resource for doing visualizations in Python.\n",
    "\n",
    "**NOTE:** It's recommended you start with something simple first. If you wish to do more, come back to it after you've completed the rest of the sections. It can be interesting to look at the distribution of classes in the training, validation and test set. Is the distribution the same? Are there more examples of some classes than others?"
   ]
  },
  {
   "cell_type": "code",
   "execution_count": 3,
   "metadata": {},
   "outputs": [
    {
     "data": {
      "image/png": "[encoded data removed]",
      "text/plain": [
       "<matplotlib.figure.Figure at 0x7fe23f2645f8>"
      ]
     },
     "metadata": {},
     "output_type": "display_data"
    },
    {
     "data": {
      "image/png": "[encoded data removed]",
      "text/plain": [
       "<matplotlib.figure.Figure at 0x7fe232296f60>"
      ]
     },
     "metadata": {},
     "output_type": "display_data"
    }
   ],
   "source": [
    "### Data exploration visualization code goes here.\n",
    "### Feel free to use as many code cells as needed.\n",
    "import matplotlib.pyplot as plt\n",
    "import random\n",
    "\n",
    "### show the histogram of the each class\n",
    "x_ax = [i for i in range(43)]\n",
    "plt.hist(y_train, x_ax, histtype='bar', width=0.4)\n",
    "    \n",
    "index = random.randint(0, len(X_train))\n",
    "image = X_train[index][1:-1]\n",
    "plt.show()\n",
    "\n",
    "def load_img(imgs, labels, output_num):\n",
    "    output_imgs = []\n",
    "    index = []\n",
    "    \n",
    "    # randomly select output_num images from test set\n",
    "    for i in range(output_num):\n",
    "        temp = random.randint(0, len(labels))\n",
    "        index.append(labels[temp])\n",
    "        output_imgs.append(imgs[temp])\n",
    "        \n",
    "    # plot all these images and their class \n",
    "    fig, axs = plt.subplots(1, output_num)\n",
    "    for i in range(output_num):\n",
    "        axs[i].imshow(output_imgs[i])\n",
    "        axs[i].set_title(index[i])\n",
    "    fig.tight_layout()\n",
    "    \n",
    "    return output_imgs, index\n",
    "\n",
    "output_imgs, index = load_img(X_train, y_train, 6)\n",
    "plt.show()\n",
    "# Visualizations will be shown in the notebook.\n",
    "%matplotlib inline"
   ]
  },
  {
   "cell_type": "markdown",
   "metadata": {},
   "source": [
    "----\n",
    "\n",
    "## Step 2: Design and Test a Model Architecture\n",
    "\n",
    "Design and implement a deep learning model that learns to recognize traffic signs. Train and test your model on the [German Traffic Sign Dataset](http://benchmark.ini.rub.de/?section=gtsrb&subsection=dataset).\n",
    "\n",
    "The LeNet-5 implementation shown in the [classroom](https://classroom.udacity.com/nanodegrees/nd013/parts/fbf77062-5703-404e-b60c-95b78b2f3f9e/modules/6df7ae49-c61c-4bb2-a23e-6527e69209ec/lessons/601ae704-1035-4287-8b11-e2c2716217ad/concepts/d4aca031-508f-4e0b-b493-e7b706120f81) at the end of the CNN lesson is a solid starting point. You'll have to change the number of classes and possibly the preprocessing, but aside from that it's plug and play! \n",
    "\n",
    "With the LeNet-5 solution from the lecture, you should expect a validation set accuracy of about 0.89. To meet specifications, the validation set accuracy will need to be at least 0.93. It is possible to get an even higher accuracy, but 0.93 is the minimum for a successful project submission. \n",
    "\n",
    "There are various aspects to consider when thinking about this problem:\n",
    "\n",
    "- Neural network architecture (is the network over or underfitting?)\n",
    "- Play around preprocessing techniques (normalization, rgb to grayscale, etc)\n",
    "- Number of examples per label (some have more than others).\n",
    "- Generate fake data.\n",
    "\n",
    "Here is an example of a [published baseline model on this problem](http://yann.lecun.com/exdb/publis/pdf/sermanet-ijcnn-11.pdf). It's not required to be familiar with the approach used in the paper but, it's good practice to try to read papers like these."
   ]
  },
  {
   "cell_type": "markdown",
   "metadata": {},
   "source": [
    "### Pre-process the Data Set (normalization, grayscale, etc.)"
   ]
  },
  {
   "cell_type": "markdown",
   "metadata": {},
   "source": [
    "Minimally, the image data should be normalized so that the data has mean zero and equal variance. For image data, `(pixel - 128)/ 128` is a quick way to approximately normalize the data and can be used in this project. \n",
    "\n",
    "Other pre-processing steps are optional. You can try different techniques to see if it improves performance. \n",
    "\n",
    "Use the code cell (or multiple code cells, if necessary) to implement the first step of your project."
   ]
  },
  {
   "cell_type": "code",
   "execution_count": 4,
   "metadata": {
    "collapsed": true
   },
   "outputs": [],
   "source": [
    "### Preprocess the data here. It is required to normalize the data. Other preprocessing steps could include \n",
    "### converting to grayscale, etc.\n",
    "### Feel free to use as many code cells as needed.\n",
    "import cv2\n",
    "\n",
    "# the transform_image function reffers to https://github.com/vxy10/ImageAugmentation\n",
    "# and this is used for transformation a single image.\n",
    "\n",
    "def transform_image(image, ang_range, shear_range, trans_range):\n",
    "    # rotation\n",
    "    ang_rot = np.random.uniform(ang_range) - ang_range/2\n",
    "    rows,cols,ch = image.shape\n",
    "    Rot_M = cv2.getRotationMatrix2D((cols/2, rows/2), ang_rot, 1)\n",
    "    \n",
    "    # translation\n",
    "    tr_x = trans_range*np.random.uniform()-trans_range/2\n",
    "    tr_y = trans_range*np.random.uniform()-trans_range/2\n",
    "    Trans_M = np.float32([[1,0,tr_x],[0,1,tr_y]])\n",
    "    \n",
    "    # Shear\n",
    "    pts1 = np.float32([[5,5],[20,5],[5,20]])\n",
    "    pt1 = 5 + shear_range*np.random.uniform()-shear_range/2\n",
    "    pt2 = 20 + shear_range*np.random.uniform()-shear_range/2\n",
    "    pts2 = np.float32([[pt1,5],[pt2,pt1],[5, pt2]])\n",
    "    \n",
    "    shear_M = cv2.getAffineTransform(pts1, pts2)\n",
    "    img = cv2.warpAffine(image, Rot_M, (cols, rows))\n",
    "    img = cv2.warpAffine(img, Trans_M, (cols, rows))\n",
    "    img = cv2.warpAffine(img, shear_M, (cols, rows))\n",
    "    \n",
    "    return img\n",
    "\n",
    "def img_group(img, num, ang, shear, trans):\n",
    "    imgs = [np.copy(img)]\n",
    "    for i in range(num-1):\n",
    "        img_new = transform_image(img, ang, shear, trans)\n",
    "        imgs.append(img_new)\n",
    "        \n",
    "    return imgs\n",
    "        \n",
    "def augmentation(X_train, y_train):\n",
    "    X_aug = []\n",
    "    y_aug = []\n",
    "    count = [0]*43\n",
    "    temp = []\n",
    "    for i in range(43):\n",
    "        temp.append(np.sum(y_train==i))\n",
    "    limit = max(temp)\n",
    "    for x, y in zip(X_train, y_train):\n",
    "        diff = limit - (np.sum(y_train==y)+count[y]) \n",
    "        if diff > 0:\n",
    "            if diff > limit//3:\n",
    "                num = 10\n",
    "            else:\n",
    "                num = 5\n",
    "            X_aug.append(img_group(x, num=num, ang=20, shear=10, trans=2))\n",
    "            y_group = np.repeat(y, num)\n",
    "            y_aug.append(y_group)\n",
    "            count[y] += num -1\n",
    "        else:\n",
    "            X_aug.append(np.array([x]))\n",
    "            y_aug.append(np.array([y]))\n",
    "            count[y] += 1\n",
    "    X_aug = np.concatenate(X_aug)\n",
    "    y_aug = np.concatenate(y_aug)\n",
    "    print('X_aug shape: {}'.format(X_aug.shape))\n",
    "    print('y_aug shape: {}'.format(y_aug.shape))\n",
    "    \n",
    "    return X_aug, y_aug"
   ]
  },
  {
   "cell_type": "code",
   "execution_count": 5,
   "metadata": {},
   "outputs": [
    {
     "data": {
      "image/png": "[encoded data removed]",
      "text/plain": [
       "<matplotlib.figure.Figure at 0x7fe234681400>"
      ]
     },
     "metadata": {},
     "output_type": "display_data"
    }
   ],
   "source": [
    "# preprocess pipeline \n",
    "# 1. transform and augmentation\n",
    " #X_train, y_train = augmentation(X_train, y_train)\n",
    "\n",
    "# 2. normalization\n",
    "X_train = np.array(X_train)/122.5 - 1\n",
    "X_valid = np.array(X_valid)/122.5 -1\n",
    "X_test = np.array(X_test)/122.5 - 1\n",
    "\n",
    "beams = [x for x in range(45)]\n",
    "plt.hist(y_train, beams, histtype='bar', width=0.6)\n",
    "plt.show()\n"
   ]
  },
  {
   "cell_type": "markdown",
   "metadata": {},
   "source": [
    "### Model Architecture"
   ]
  },
  {
   "cell_type": "code",
   "execution_count": 6,
   "metadata": {
    "collapsed": true
   },
   "outputs": [],
   "source": [
    "### Define your architecture here.\n",
    "### Feel free to use as many code cells as needed.\n",
    "### Define your architecture here.\n",
    "### Feel free to use as many code cells as needed.\n",
    "import tensorflow as tf\n",
    "from tensorflow.contrib.layers import flatten\n",
    "\n",
    "def LeNet(x):\n",
    "    mu = 0\n",
    "    sigma = 0.1\n",
    "    # first convolution layer with filter size 5,5,3\n",
    "    # input = 32*32*3 output = 28*28*6\n",
    "    c1_neurs = 6\n",
    "    input_nuers = 3\n",
    "    wc1 = tf.Variable(tf.truncated_normal(shape = (5,5,input_nuers,c1_neurs), mean = mu, stddev = sigma))\n",
    "    bc1 = tf.Variable(tf.zeros(c1_neurs))\n",
    "    stride = 1\n",
    "    conv1 = tf.nn.conv2d(x, wc1, strides = [1,stride,stride,1], padding='VALID') + bc1\n",
    "    conv1 = tf.nn.relu(conv1)\n",
    "    \n",
    "    # Max pooling with input as 28*28*6 and output as 14*14*6\n",
    "    k = 2\n",
    "    conv1_pool = tf.nn.max_pool(conv1, ksize=[1, k, k, 1], strides=[1, k, k, 1], padding='VALID')\n",
    "    conv1_pool = tf.nn.dropout(conv1_pool, keep_prob)\n",
    "    \n",
    "    # Second convolutional layer with filter size 5*5*16\n",
    "    c2_neurs = 16\n",
    "    wc2 = tf.Variable(tf.truncated_normal(shape = (5,5,c1_neurs,c2_neurs), mean = mu, stddev = sigma))\n",
    "    bc2 = tf.Variable(tf.zeros(c2_neurs))\n",
    "    stride = 1\n",
    "    conv2 = tf.nn.conv2d(conv1_pool, wc2, strides = [1,stride,stride,1], padding='VALID') + bc2\n",
    "    conv2 = tf.nn.relu(conv2)\n",
    "                    \n",
    "    # Max pooling with input as 10*10*16 and output as 5*5*16\n",
    "    k = 2\n",
    "    conv2_pool = tf.nn.max_pool(conv2, ksize=[1, k, k, 1], strides=[1, k, k, 1], padding='VALID')\n",
    "    conv2_pool = tf.nn.dropout(conv2_pool, keep_prob)\n",
    "                    \n",
    "    # Flatten \n",
    "    conv2_pool = flatten(conv2_pool)\n",
    "    \n",
    "    # Fully connected layer 1 which has 400 inputs and 120 outputs\n",
    "    wfc1 = tf.Variable(tf.truncated_normal(shape = (400, 120), mean = mu, stddev = sigma))\n",
    "    bfc1 = tf.Variable(tf.zeros(120))\n",
    "    fc1 = tf.add(tf.matmul(conv2_pool, wfc1), bfc1)\n",
    "    fc1 = tf.nn.dropout(fc1, keep_prob)\n",
    "    \n",
    "    # Fully connected layer 2 which has 120 inputs and 84 outputs\n",
    "    wfc2 = tf.Variable(tf.truncated_normal(shape = (120, 84), mean = mu, stddev = sigma))\n",
    "    bfc2 = tf.Variable(tf.zeros(84))\n",
    "    fc2 = tf.add(tf.matmul(fc1, wfc2), bfc2)\n",
    "    fc2 = tf.nn.dropout(fc2, keep_prob)\n",
    "                     \n",
    "    # Fully connected layer 3 which has 84 inputs and 43 outputs\n",
    "    wfc3 = tf.Variable(tf.truncated_normal(shape = (84, 43), mean = mu, stddev = sigma))\n",
    "    bfc3 = tf.Variable(tf.zeros(43))\n",
    "    fc3 = tf.add(tf.matmul(fc2, wfc3), bfc3)\n",
    "    logits = fc3\n",
    "    \n",
    "    return logits"
   ]
  },
  {
   "cell_type": "markdown",
   "metadata": {},
   "source": [
    "### Train, Validate and Test the Model"
   ]
  },
  {
   "cell_type": "markdown",
   "metadata": {},
   "source": [
    "A validation set can be used to assess how well the model is performing. A low accuracy on the training and validation\n",
    "sets imply underfitting. A high accuracy on the training set but low accuracy on the validation set implies overfitting."
   ]
  },
  {
   "cell_type": "code",
   "execution_count": 7,
   "metadata": {
    "collapsed": true
   },
   "outputs": [],
   "source": [
    "### Train your model here.\n",
    "### Calculate and report the accuracy on the training and validation set.\n",
    "### Once a final model architecture is selected, \n",
    "### the accuracy on the test set should be calculated and reported as well.\n",
    "### Feel free to use as many code cells as needed.\n",
    "x = tf.placeholder(tf.float32, (None, 32, 32, 3))\n",
    "y = tf.placeholder(tf.int32, (None))\n",
    "y_onehot = tf.one_hot(y, 43)\n",
    "keep_prob = tf.placeholder(tf.float32)"
   ]
  },
  {
   "cell_type": "code",
   "execution_count": 8,
   "metadata": {
    "collapsed": true
   },
   "outputs": [],
   "source": [
    "# Training part\n",
    "learning_rate = 0.0005\n",
    "\n",
    "logits = LeNet(x)\n",
    "cross_entropy = tf.nn.softmax_cross_entropy_with_logits(labels=y_onehot, logits=logits)\n",
    "loss_operation = tf.reduce_mean(cross_entropy)\n",
    "optimizer = tf.train.AdamOptimizer(learning_rate = learning_rate)\n",
    "training_operation = optimizer.minimize(loss_operation)"
   ]
  },
  {
   "cell_type": "markdown",
   "metadata": {},
   "source": [
    "## Evaluation "
   ]
  },
  {
   "cell_type": "code",
   "execution_count": 9,
   "metadata": {
    "collapsed": true
   },
   "outputs": [],
   "source": [
    "correct_prediction = tf.equal(tf.argmax(logits, 1), tf.argmax(y_onehot, 1))\n",
    "accuracy_operation = tf.reduce_mean(tf.cast(correct_prediction, tf.float32))\n",
    "saver = tf.train.Saver()\n",
    "\n",
    "def evaluate(X_data, y_data):\n",
    "    num_examples = len(X_data)\n",
    "    total_accuracy = 0\n",
    "    sess = tf.get_default_session()\n",
    "    for offset in range(0, num_examples, BATCH_SIZE):\n",
    "        batch_x, batch_y = X_data[offset:offset+BATCH_SIZE], y_data[offset:offset+BATCH_SIZE]\n",
    "        accuracy = sess.run(accuracy_operation, feed_dict={x: batch_x, y: batch_y, keep_prob: 1.0})\n",
    "        total_accuracy += (accuracy * len(batch_x))\n",
    "    return total_accuracy / num_examples"
   ]
  },
  {
   "cell_type": "markdown",
   "metadata": {},
   "source": [
    "## Train pipeline"
   ]
  },
  {
   "cell_type": "code",
   "execution_count": 10,
   "metadata": {},
   "outputs": [
    {
     "name": "stdout",
     "output_type": "stream",
     "text": [
      "Training...\n",
      "EPOCH: 1 Valid Accuracy: 0.411 Trainging time: 3.1077\n",
      "EPOCH: 2 Valid Accuracy: 0.604 Trainging time: 2.7212\n",
      "EPOCH: 3 Valid Accuracy: 0.720 Trainging time: 2.7202\n",
      "EPOCH: 4 Valid Accuracy: 0.776 Trainging time: 2.7179\n",
      "EPOCH: 5 Valid Accuracy: 0.819 Trainging time: 2.7173\n",
      "EPOCH: 6 Valid Accuracy: 0.854 Trainging time: 2.7226\n",
      "EPOCH: 7 Valid Accuracy: 0.870 Trainging time: 2.7118\n",
      "EPOCH: 8 Valid Accuracy: 0.880 Trainging time: 2.7116\n",
      "EPOCH: 9 Valid Accuracy: 0.883 Trainging time: 2.7158\n",
      "EPOCH: 10 Valid Accuracy: 0.903 Trainging time: 2.7121\n",
      "EPOCH: 11 Valid Accuracy: 0.900 Trainging time: 2.7171\n",
      "EPOCH: 12 Valid Accuracy: 0.900 Trainging time: 2.7157\n",
      "EPOCH: 13 Valid Accuracy: 0.910 Trainging time: 2.7215\n",
      "EPOCH: 14 Valid Accuracy: 0.905 Trainging time: 2.7151\n",
      "EPOCH: 15 Valid Accuracy: 0.921 Trainging time: 2.7190\n",
      "EPOCH: 16 Valid Accuracy: 0.910 Trainging time: 2.7220\n",
      "EPOCH: 17 Valid Accuracy: 0.925 Trainging time: 2.7195\n",
      "EPOCH: 18 Valid Accuracy: 0.932 Trainging time: 2.7132\n",
      "EPOCH: 19 Valid Accuracy: 0.921 Trainging time: 2.7180\n",
      "EPOCH: 20 Valid Accuracy: 0.933 Trainging time: 2.7132\n",
      "EPOCH: 21 Valid Accuracy: 0.931 Trainging time: 2.7210\n",
      "EPOCH: 22 Valid Accuracy: 0.937 Trainging time: 2.7085\n",
      "EPOCH: 23 Valid Accuracy: 0.934 Trainging time: 2.7136\n",
      "EPOCH: 24 Valid Accuracy: 0.934 Trainging time: 2.7137\n",
      "EPOCH: 25 Valid Accuracy: 0.938 Trainging time: 2.7168\n",
      "EPOCH: 26 Valid Accuracy: 0.944 Trainging time: 2.7164\n",
      "EPOCH: 27 Valid Accuracy: 0.938 Trainging time: 2.7162\n",
      "EPOCH: 28 Valid Accuracy: 0.937 Trainging time: 2.7183\n",
      "EPOCH: 29 Valid Accuracy: 0.946 Trainging time: 2.7149\n",
      "EPOCH: 30 Valid Accuracy: 0.941 Trainging time: 2.7166\n",
      "EPOCH: 31 Valid Accuracy: 0.945 Trainging time: 2.7153\n",
      "EPOCH: 32 Valid Accuracy: 0.946 Trainging time: 2.7125\n",
      "EPOCH: 33 Valid Accuracy: 0.945 Trainging time: 2.7183\n",
      "EPOCH: 34 Valid Accuracy: 0.940 Trainging time: 2.7151\n",
      "EPOCH: 35 Valid Accuracy: 0.930 Trainging time: 2.7186\n",
      "EPOCH: 36 Valid Accuracy: 0.949 Trainging time: 2.7164\n",
      "EPOCH: 37 Valid Accuracy: 0.948 Trainging time: 2.7355\n",
      "EPOCH: 38 Valid Accuracy: 0.934 Trainging time: 2.7127\n",
      "EPOCH: 39 Valid Accuracy: 0.944 Trainging time: 2.7155\n",
      "EPOCH: 40 Valid Accuracy: 0.945 Trainging time: 2.7143\n",
      "EPOCH: 41 Valid Accuracy: 0.949 Trainging time: 2.7106\n",
      "EPOCH: 42 Valid Accuracy: 0.947 Trainging time: 2.7120\n",
      "EPOCH: 43 Valid Accuracy: 0.947 Trainging time: 2.7128\n",
      "EPOCH: 44 Valid Accuracy: 0.946 Trainging time: 2.7182\n",
      "EPOCH: 45 Valid Accuracy: 0.936 Trainging time: 2.7138\n",
      "EPOCH: 46 Valid Accuracy: 0.949 Trainging time: 2.7098\n",
      "EPOCH: 47 Valid Accuracy: 0.950 Trainging time: 2.7092\n",
      "EPOCH: 48 Valid Accuracy: 0.949 Trainging time: 2.7145\n",
      "EPOCH: 49 Valid Accuracy: 0.945 Trainging time: 2.7166\n",
      "EPOCH: 50 Valid Accuracy: 0.952 Trainging time: 2.7133\n",
      "Model saved.\n"
     ]
    }
   ],
   "source": [
    "import time\n",
    "\n",
    "EPOCHS = 50\n",
    "BATCH_SIZE = 128\n",
    "num_examples = len(X_train)\n",
    "\n",
    "train_count = []\n",
    "valid_count = []\n",
    "loss_count = []\n",
    "\n",
    "with tf.Session() as sess:\n",
    "    init = tf.global_variables_initializer()\n",
    "    sess.run(init)\n",
    "    \n",
    "    print('Training...')\n",
    "    for i in range(EPOCHS):\n",
    "        X_train, y_train = shuffle(X_train, y_train)\n",
    "        t1 = time.time()\n",
    "        for offset in range(0, num_examples, BATCH_SIZE):\n",
    "            batch_x, batch_y = X_train[offset:offset+BATCH_SIZE], y_train[offset:offset+BATCH_SIZE]\n",
    "            sess.run(training_operation, feed_dict={x:batch_x, y:batch_y, keep_prob: 0.6})\n",
    "        t2 = time.time()\n",
    "        train_acc = evaluate(X_train, y_train)\n",
    "        valic_acc = evaluate(X_valid, y_valid)\n",
    "        train_count.append(train_acc)\n",
    "        valid_count.append(valic_acc)\n",
    "        print('EPOCH: {}'.format(i+1), 'Valid Accuracy: {:.3f}'.format(valic_acc), 'Trainging time: {:.4f}'.format(t2-t1))\n",
    "    saver.save(sess, './trained_model')\n",
    "    print('Model saved.')"
   ]
  },
  {
   "cell_type": "code",
   "execution_count": 11,
   "metadata": {},
   "outputs": [
    {
     "data": {
      "image/png": "[encoded data removed]",
      "text/plain": [
       "<matplotlib.figure.Figure at 0x7fe1ecc97550>"
      ]
     },
     "metadata": {},
     "output_type": "display_data"
    }
   ],
   "source": [
    "# show training accuracy and validation accuracy\n",
    "plt.figure(1)\n",
    "plt.plot(range(EPOCHS), train_count, label='Training Accuracy')\n",
    "plt.plot(range(EPOCHS), valid_count, label='Validation Accuracy')\n",
    "plt.legend()\n",
    "plt.show()"
   ]
  },
  {
   "cell_type": "markdown",
   "metadata": {},
   "source": [
    "---\n",
    "\n",
    "## Step 3: Test a Model on New Images\n",
    "\n",
    "To give yourself more insight into how your model is working, download at least five pictures of German traffic signs from the web and use your model to predict the traffic sign type.\n",
    "\n",
    "You may find `signnames.csv` useful as it contains mappings from the class id (integer) to the actual sign name."
   ]
  },
  {
   "cell_type": "markdown",
   "metadata": {},
   "source": [
    "### Load and Output the Images"
   ]
  },
  {
   "cell_type": "code",
   "execution_count": 12,
   "metadata": {},
   "outputs": [],
   "source": [
    "### Load the images and plot them here.\n",
    "### Feel free to use as many code cells as needed.\n"
   ]
  },
  {
   "cell_type": "markdown",
   "metadata": {},
   "source": [
    "### Predict the Sign Type for Each Image"
   ]
  },
  {
   "cell_type": "code",
   "execution_count": 13,
   "metadata": {},
   "outputs": [
    {
     "name": "stdout",
     "output_type": "stream",
     "text": [
      "prediciton result:  [ 1 25  1 18  4  6 35 25 22 15]\n",
      "true  result:  [1, 25, 1, 18, 4, 6, 35, 25, 22, 15]\n",
      "Test Accuracy = 1.000\n"
     ]
    },
    {
     "data": {
      "image/png": "[encoded data removed]",
      "text/plain": [
       "<matplotlib.figure.Figure at 0x7fe1ecbf4da0>"
      ]
     },
     "metadata": {},
     "output_type": "display_data"
    }
   ],
   "source": [
    "### Run the predictions here and use the model to output the prediction for each image.\n",
    "### Make sure to pre-process the images with the same pre-processing pipeline used earlier.\n",
    "### Feel free to use as many code cells as needed.\n",
    "output_imgs, index = load_img(X_test, y_test, 10)\n",
    "\n",
    "with tf.Session() as sess:\n",
    "    saver.restore(sess, tf.train.latest_checkpoint('.'))\n",
    "    prediction = sess.run(tf.argmax(logits, 1), feed_dict={x:output_imgs, keep_prob:1})\n",
    "    print('prediciton result: ', prediction)\n",
    "    print('true  result: ', index)\n",
    "    test_accuracy = sess.run(accuracy_operation, feed_dict={x:output_imgs, y:index, keep_prob:1})\n",
    "    print(\"Test Accuracy = {:.3f}\".format(test_accuracy))"
   ]
  },
  {
   "cell_type": "markdown",
   "metadata": {},
   "source": [
    "### Analyze Performance"
   ]
  },
  {
   "cell_type": "code",
   "execution_count": 14,
   "metadata": {},
   "outputs": [
    {
     "name": "stdout",
     "output_type": "stream",
     "text": [
      "Accuracy from the test set is:  1.0\n"
     ]
    }
   ],
   "source": [
    "### Calculate the accuracy for these 5 new images. \n",
    "### For example, if the model predicted 1 out of 5 signs correctly, it's 20% accurate on these new images.\n",
    "print('Accuracy from the test set is: ', test_accuracy)"
   ]
  },
  {
   "cell_type": "markdown",
   "metadata": {},
   "source": [
    "### Output Top 5 Softmax Probabilities For Each Image Found on the Web"
   ]
  },
  {
   "cell_type": "markdown",
   "metadata": {},
   "source": [
    "For each of the new images, print out the model's softmax probabilities to show the **certainty** of the model's predictions (limit the output to the top 5 probabilities for each image). [`tf.nn.top_k`](https://www.tensorflow.org/versions/r0.12/api_docs/python/nn.html#top_k) could prove helpful here. \n",
    "\n",
    "The example below demonstrates how tf.nn.top_k can be used to find the top k predictions for each image.\n",
    "\n",
    "`tf.nn.top_k` will return the values and indices (class ids) of the top k predictions. So if k=3, for each sign, it'll return the 3 largest probabilities (out of a possible 43) and the correspoding class ids.\n",
    "\n",
    "Take this numpy array as an example. The values in the array represent predictions. The array contains softmax probabilities for five candidate images with six possible classes. `tk.nn.top_k` is used to choose the three classes with the highest probability:\n",
    "\n",
    "```\n",
    "# (5, 6) array\n",
    "a = np.array([[ 0.24879643,  0.07032244,  0.12641572,  0.34763842,  0.07893497,\n",
    "         0.12789202],\n",
    "       [ 0.28086119,  0.27569815,  0.08594638,  0.0178669 ,  0.18063401,\n",
    "         0.15899337],\n",
    "       [ 0.26076848,  0.23664738,  0.08020603,  0.07001922,  0.1134371 ,\n",
    "         0.23892179],\n",
    "       [ 0.11943333,  0.29198961,  0.02605103,  0.26234032,  0.1351348 ,\n",
    "         0.16505091],\n",
    "       [ 0.09561176,  0.34396535,  0.0643941 ,  0.16240774,  0.24206137,\n",
    "         0.09155967]])\n",
    "```\n",
    "\n",
    "Running it through `sess.run(tf.nn.top_k(tf.constant(a), k=3))` produces:\n",
    "\n",
    "```\n",
    "TopKV2(values=array([[ 0.34763842,  0.24879643,  0.12789202],\n",
    "       [ 0.28086119,  0.27569815,  0.18063401],\n",
    "       [ 0.26076848,  0.23892179,  0.23664738],\n",
    "       [ 0.29198961,  0.26234032,  0.16505091],\n",
    "       [ 0.34396535,  0.24206137,  0.16240774]]), indices=array([[3, 0, 5],\n",
    "       [0, 1, 4],\n",
    "       [0, 5, 1],\n",
    "       [1, 3, 5],\n",
    "       [1, 4, 3]], dtype=int32))\n",
    "```\n",
    "\n",
    "Looking just at the first row we get `[ 0.34763842,  0.24879643,  0.12789202]`, you can confirm these are the 3 largest probabilities in `a`. You'll also notice `[3, 0, 5]` are the corresponding indices."
   ]
  },
  {
   "cell_type": "code",
   "execution_count": 15,
   "metadata": {},
   "outputs": [
    {
     "name": "stdout",
     "output_type": "stream",
     "text": [
      "TopKV2(values=array([[  9.85784709e-01,   1.31622655e-02,   6.64967170e-04,\n",
      "          3.87979235e-04,   4.49314506e-08],\n",
      "       [  9.07094657e-01,   6.20379224e-02,   1.19508673e-02,\n",
      "          1.05668791e-02,   2.71449797e-03],\n",
      "       [  9.43385959e-01,   3.00466344e-02,   2.01717969e-02,\n",
      "          4.17107437e-03,   1.80011266e-03],\n",
      "       [  9.87592995e-01,   9.27854143e-03,   2.92246393e-03,\n",
      "          1.15606526e-04,   8.31848374e-05],\n",
      "       [  9.68227506e-01,   1.31546762e-02,   1.23249125e-02,\n",
      "          3.53376614e-03,   1.03776623e-03],\n",
      "       [  9.29736793e-01,   3.27494629e-02,   1.80555694e-02,\n",
      "          4.35071206e-03,   4.19094181e-03],\n",
      "       [  9.40395474e-01,   3.08296308e-02,   1.40239885e-02,\n",
      "          5.08649601e-03,   2.85004568e-03],\n",
      "       [  9.98500943e-01,   5.14691521e-04,   4.78089816e-04,\n",
      "          1.00978337e-04,   9.38489611e-05],\n",
      "       [  9.99985695e-01,   1.37767820e-05,   4.19001879e-07,\n",
      "          3.48809586e-08,   2.40957991e-08],\n",
      "       [  9.99827743e-01,   1.05738080e-04,   3.76882344e-05,\n",
      "          1.07175711e-05,   6.81317169e-06]], dtype=float32), indices=array([[ 1,  4,  0,  2,  5],\n",
      "       [25, 31, 21, 29, 19],\n",
      "       [ 1,  4,  2,  0,  5],\n",
      "       [18, 26, 27, 24, 11],\n",
      "       [ 4,  0,  1,  8,  5],\n",
      "       [ 6,  5, 42, 32,  3],\n",
      "       [35, 34, 33, 38, 40],\n",
      "       [25, 24, 29, 27, 22],\n",
      "       [22, 29, 25, 28, 13],\n",
      "       [15,  2,  3,  5,  9]], dtype=int32))\n"
     ]
    }
   ],
   "source": [
    "### Print out the top five softmax probabilities for the predictions on the German traffic sign images found on the web. \n",
    "### Feel free to use as many code cells as needed.\n",
    "with tf.Session() as sess:\n",
    "    saver.restore(sess, tf.train.latest_checkpoint('.'))\n",
    "    soft_max = sess.run(tf.nn.top_k(tf.nn.softmax(logits), k=5), feed_dict={x:output_imgs, keep_prob:1})\n",
    "    print(soft_max)"
   ]
  },
  {
   "cell_type": "markdown",
   "metadata": {},
   "source": [
    "### Project Writeup\n",
    "\n",
    "Once you have completed the code implementation, document your results in a project writeup using this [template](https://github.com/udacity/CarND-Traffic-Sign-Classifier-Project/blob/master/writeup_template.md) as a guide. The writeup can be in a markdown or pdf file. "
   ]
  },
  {
   "cell_type": "markdown",
   "metadata": {},
   "source": [
    "> **Note**: Once you have completed all of the code implementations and successfully answered each question above, you may finalize your work by exporting the iPython Notebook as an HTML document. You can do this by using the menu above and navigating to  \\n\",\n",
    "    \"**File -> Download as -> HTML (.html)**. Include the finished document along with this notebook as your submission."
   ]
  },
  {
   "cell_type": "markdown",
   "metadata": {},
   "source": [
    "---\n",
    "\n",
    "## Step 4 (Optional): Visualize the Neural Network's State with Test Images\n",
    "\n",
    " This Section is not required to complete but acts as an additional excersise for understaning the output of a neural network's weights. While neural networks can be a great learning device they are often referred to as a black box. We can understand what the weights of a neural network look like better by plotting their feature maps. After successfully training your neural network you can see what it's feature maps look like by plotting the output of the network's weight layers in response to a test stimuli image. From these plotted feature maps, it's possible to see what characteristics of an image the network finds interesting. For a sign, maybe the inner network feature maps react with high activation to the sign's boundary outline or to the contrast in the sign's painted symbol.\n",
    "\n",
    " Provided for you below is the function code that allows you to get the visualization output of any tensorflow weight layer you want. The inputs to the function should be a stimuli image, one used during training or a new one you provided, and then the tensorflow variable name that represents the layer's state during the training process, for instance if you wanted to see what the [LeNet lab's](https://classroom.udacity.com/nanodegrees/nd013/parts/fbf77062-5703-404e-b60c-95b78b2f3f9e/modules/6df7ae49-c61c-4bb2-a23e-6527e69209ec/lessons/601ae704-1035-4287-8b11-e2c2716217ad/concepts/d4aca031-508f-4e0b-b493-e7b706120f81) feature maps looked like for it's second convolutional layer you could enter conv2 as the tf_activation variable.\n",
    "\n",
    "For an example of what feature map outputs look like, check out NVIDIA's results in their paper [End-to-End Deep Learning for Self-Driving Cars](https://devblogs.nvidia.com/parallelforall/deep-learning-self-driving-cars/) in the section Visualization of internal CNN State. NVIDIA was able to show that their network's inner weights had high activations to road boundary lines by comparing feature maps from an image with a clear path to one without. Try experimenting with a similar test to show that your trained network's weights are looking for interesting features, whether it's looking at differences in feature maps from images with or without a sign, or even what feature maps look like in a trained network vs a completely untrained one on the same sign image.\n",
    "\n",
    "<figure>\n",
    " <img src=\"visualize_cnn.png\" width=\"380\" alt=\"Combined Image\" />\n",
    " <figcaption>\n",
    " <p></p> \n",
    " <p style=\"text-align: center;\"> Your output should look something like this (above)</p> \n",
    " </figcaption>\n",
    "</figure>\n",
    " <p></p> \n"
   ]
  },
  {
   "cell_type": "code",
   "execution_count": 16,
   "metadata": {
    "collapsed": true
   },
   "outputs": [],
   "source": [
    "### Visualize your network's feature maps here.\n",
    "### Feel free to use as many code cells as needed.\n",
    "\n",
    "# image_input: the test image being fed into the network to produce the feature maps\n",
    "# tf_activation: should be a tf variable name used during your training procedure that represents the calculated state of a specific weight layer\n",
    "# activation_min/max: can be used to view the activation contrast in more detail, by default matplot sets min and max to the actual min and max values of the output\n",
    "# plt_num: used to plot out multiple different weight feature map sets on the same block, just extend the plt number for each new feature map entry\n",
    "\n",
    "def outputFeatureMap(image_input, tf_activation, activation_min=-1, activation_max=-1 ,plt_num=1):\n",
    "    # Here make sure to preprocess your image_input in a way your network expects\n",
    "    # with size, normalization, ect if needed\n",
    "    # image_input =\n",
    "    # Note: x should be the same name as your network's tensorflow data placeholder variable\n",
    "    # If you get an error tf_activation is not defined it may be having trouble accessing the variable from inside a function\n",
    "    activation = tf_activation.eval(session=sess,feed_dict={x : image_input})\n",
    "    featuremaps = activation.shape[3]\n",
    "    plt.figure(plt_num, figsize=(15,15))\n",
    "    for featuremap in range(featuremaps):\n",
    "        plt.subplot(6,8, featuremap+1) # sets the number of feature maps to show on each row and column\n",
    "        plt.title('FeatureMap ' + str(featuremap)) # displays the feature map number\n",
    "        if activation_min != -1 & activation_max != -1:\n",
    "            plt.imshow(activation[0,:,:, featuremap], interpolation=\"nearest\", vmin =activation_min, vmax=activation_max, cmap=\"gray\")\n",
    "        elif activation_max != -1:\n",
    "            plt.imshow(activation[0,:,:, featuremap], interpolation=\"nearest\", vmax=activation_max, cmap=\"gray\")\n",
    "        elif activation_min !=-1:\n",
    "            plt.imshow(activation[0,:,:, featuremap], interpolation=\"nearest\", vmin=activation_min, cmap=\"gray\")\n",
    "        else:\n",
    "            plt.imshow(activation[0,:,:, featuremap], interpolation=\"nearest\", cmap=\"gray\")"
   ]
  }
 ],
 "metadata": {
  "anaconda-cloud": {},
  "kernelspec": {
   "display_name": "Python 3",
   "language": "python",
   "name": "python3"
  },
  "language_info": {
   "codemirror_mode": {
    "name": "ipython",
    "version": 3
   },
   "file_extension": ".py",
   "mimetype": "text/x-python",
   "name": "python",
   "nbconvert_exporter": "python",
   "pygments_lexer": "ipython3",
   "version": "3.5.2"
  },
  "widgets": {
   "state": {},
   "version": "1.1.2"
  }
 },
 "nbformat": 4,
 "nbformat_minor": 1
}

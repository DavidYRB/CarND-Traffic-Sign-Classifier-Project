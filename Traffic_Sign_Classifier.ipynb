{
 "cells": [
  {
   "cell_type": "markdown",
   "metadata": {},
   "source": [
    "# Self-Driving Car Engineer Nanodegree\n",
    "\n",
    "## Deep Learning\n",
    "\n",
    "## Project: Build a Traffic Sign Recognition Classifier\n",
    "\n",
    "In this notebook, a template is provided for you to implement your functionality in stages, which is required to successfully complete this project. If additional code is required that cannot be included in the notebook, be sure that the Python code is successfully imported and included in your submission if necessary. \n",
    "\n",
    "> **Note**: Once you have completed all of the code implementations, you need to finalize your work by exporting the iPython Notebook as an HTML document. Before exporting the notebook to html, all of the code cells need to have been run so that reviewers can see the final implementation and output. You can then export the notebook by using the menu above and navigating to  \\n\",\n",
    "    \"**File -> Download as -> HTML (.html)**. Include the finished document along with this notebook as your submission. \n",
    "\n",
    "In addition to implementing code, there is a writeup to complete. The writeup should be completed in a separate file, which can be either a markdown file or a pdf document. There is a [write up template](https://github.com/udacity/CarND-Traffic-Sign-Classifier-Project/blob/master/writeup_template.md) that can be used to guide the writing process. Completing the code template and writeup template will cover all of the [rubric points](https://review.udacity.com/#!/rubrics/481/view) for this project.\n",
    "\n",
    "The [rubric](https://review.udacity.com/#!/rubrics/481/view) contains \"Stand Out Suggestions\" for enhancing the project beyond the minimum requirements. The stand out suggestions are optional. If you decide to pursue the \"stand out suggestions\", you can include the code in this Ipython notebook and also discuss the results in the writeup file.\n",
    "\n",
    "\n",
    ">**Note:** Code and Markdown cells can be executed using the **Shift + Enter** keyboard shortcut. In addition, Markdown cells can be edited by typically double-clicking the cell to enter edit mode."
   ]
  },
  {
   "cell_type": "markdown",
   "metadata": {},
   "source": [
    "---\n",
    "## Step 0: Load The Data"
   ]
  },
  {
   "cell_type": "code",
   "execution_count": 1,
   "metadata": {
    "collapsed": true
   },
   "outputs": [],
   "source": [
    "# Load pickled data\n",
    "import pickle\n",
    "import numpy as np\n",
    "from sklearn.utils import shuffle\n",
    "# TODO: Fill this in based on where you saved the training and testing data\n",
    "\n",
    "training_file = 'train.p'\n",
    "validation_file= 'valid.p'\n",
    "testing_file = 'test.p'\n",
    "\n",
    "with open(training_file, mode='rb') as f:\n",
    "    train = pickle.load(f)\n",
    "with open(validation_file, mode='rb') as f:\n",
    "    valid = pickle.load(f)\n",
    "with open(testing_file, mode='rb') as f:\n",
    "    test = pickle.load(f)\n",
    "    \n",
    "X_train, y_train = train['features'], train['labels']\n",
    "X_valid, y_valid = valid['features'], valid['labels']\n",
    "X_test, y_test = test['features'], test['labels']\n"
   ]
  },
  {
   "cell_type": "markdown",
   "metadata": {},
   "source": [
    "---\n",
    "\n",
    "## Step 1: Dataset Summary & Exploration\n",
    "\n",
    "The pickled data is a dictionary with 4 key/value pairs:\n",
    "\n",
    "- `'features'` is a 4D array containing raw pixel data of the traffic sign images, (num examples, width, height, channels).\n",
    "- `'labels'` is a 1D array containing the label/class id of the traffic sign. The file `signnames.csv` contains id -> name mappings for each id.\n",
    "- `'sizes'` is a list containing tuples, (width, height) representing the original width and height the image.\n",
    "- `'coords'` is a list containing tuples, (x1, y1, x2, y2) representing coordinates of a bounding box around the sign in the image. **THESE COORDINATES ASSUME THE ORIGINAL IMAGE. THE PICKLED DATA CONTAINS RESIZED VERSIONS (32 by 32) OF THESE IMAGES**\n",
    "\n",
    "Complete the basic data summary below. Use python, numpy and/or pandas methods to calculate the data summary rather than hard coding the results. For example, the [pandas shape method](http://pandas.pydata.org/pandas-docs/stable/generated/pandas.DataFrame.shape.html) might be useful for calculating some of the summary results. "
   ]
  },
  {
   "cell_type": "markdown",
   "metadata": {},
   "source": [
    "### Provide a Basic Summary of the Data Set Using Python, Numpy and/or Pandas"
   ]
  },
  {
   "cell_type": "code",
   "execution_count": 2,
   "metadata": {},
   "outputs": [
    {
     "name": "stdout",
     "output_type": "stream",
     "text": [
      "Number of training examples = 34799\n",
      "Number of validation examples = 4410\n",
      "Number of testing examples = 12630\n",
      "Image data shape = (32, 32)\n",
      "Number of classes = (43,)\n",
      "<class 'numpy.ndarray'> (34799, 32, 32, 3)\n"
     ]
    }
   ],
   "source": [
    "### Replace each question mark with the appropriate value. \n",
    "### Use python, pandas or numpy methods rather than hard coding the results\n",
    "import pandas \n",
    "# TODO: Number of training examples\n",
    "n_train = np.shape(X_train)[0]\n",
    "\n",
    "# TODO: Number of validation examples\n",
    "n_validation = np.shape(X_valid)[0]\n",
    "\n",
    "# TODO: Number of testing examples.\n",
    "n_test = np.shape(X_test)[0]\n",
    "\n",
    "# TODO: What's the shape of an traffic sign image?\n",
    "image_shape = np.shape(X_test)[1:3]\n",
    "\n",
    "# TODO: How many unique classes/labels there are in the dataset.\n",
    "n_classes = np.shape(np.unique(y_train))\n",
    "\n",
    "print(\"Number of training examples =\", n_train)\n",
    "print(\"Number of validation examples =\", n_validation)\n",
    "print(\"Number of testing examples =\", n_test)\n",
    "print(\"Image data shape =\", image_shape)\n",
    "print(\"Number of classes =\", n_classes)\n",
    "print(type(X_train), np.shape(X_train))"
   ]
  },
  {
   "cell_type": "markdown",
   "metadata": {},
   "source": [
    "### Include an exploratory visualization of the dataset"
   ]
  },
  {
   "cell_type": "markdown",
   "metadata": {},
   "source": [
    "Visualize the German Traffic Signs Dataset using the pickled file(s). This is open ended, suggestions include: plotting traffic sign images, plotting the count of each sign, etc. \n",
    "\n",
    "The [Matplotlib](http://matplotlib.org/) [examples](http://matplotlib.org/examples/index.html) and [gallery](http://matplotlib.org/gallery.html) pages are a great resource for doing visualizations in Python.\n",
    "\n",
    "**NOTE:** It's recommended you start with something simple first. If you wish to do more, come back to it after you've completed the rest of the sections. It can be interesting to look at the distribution of classes in the training, validation and test set. Is the distribution the same? Are there more examples of some classes than others?"
   ]
  },
  {
   "cell_type": "code",
   "execution_count": 3,
   "metadata": {},
   "outputs": [
    {
     "data": {
      "image/png": "[encoded data removed]",
      "text/plain": [
       "<matplotlib.figure.Figure at 0x7f525833bbe0>"
      ]
     },
     "metadata": {},
     "output_type": "display_data"
    },
    {
     "name": "stdout",
     "output_type": "stream",
     "text": [
      "1\n"
     ]
    },
    {
     "data": {
      "image/png": "[encoded data removed]",
      "text/plain": [
       "<matplotlib.figure.Figure at 0x7f524b3559e8>"
      ]
     },
     "metadata": {},
     "output_type": "display_data"
    }
   ],
   "source": [
    "### Data exploration visualization code goes here.\n",
    "### Feel free to use as many code cells as needed.\n",
    "import matplotlib.pyplot as plt\n",
    "import random\n",
    "\n",
    "### show the histogram of the each class\n",
    "x_ax = [i for i in range(43)]\n",
    "plt.hist(y_train, x_ax, histtype='bar', width=0.4)\n",
    "plt.xlabel('classes')\n",
    "plt.ylabel('number of instances')\n",
    "plt.title('Histgram of training set')\n",
    "plt.show()\n",
    "\n",
    "def load_img(imgs, labels, output_num):\n",
    "    output_imgs = []\n",
    "    index = []\n",
    "    \n",
    "    # randomly select output_num images from test set\n",
    "    for i in range(output_num):\n",
    "        temp = random.randint(0, len(labels))\n",
    "        index.append(labels[temp])\n",
    "        output_imgs.append(imgs[temp])\n",
    "        \n",
    "    return output_imgs, index\n",
    "\n",
    "\n",
    "def draw_imgs(imgs, output_num, labels=None):        \n",
    "    # plot all these images and their class\n",
    "    rows = [i for i in range(0, output_num, 6)]\n",
    "    \n",
    "    if labels == None:\n",
    "        labels = ['image']*output_num\n",
    "\n",
    "    for i in rows:\n",
    "        if i!= rows[-1] and rows !=1:\n",
    "            fig, axs = plt.subplots(1,6)\n",
    "            for j in range(6):\n",
    "                axs[j].imshow(imgs[i+j])\n",
    "                axs[j].set_title(labels[i+j])\n",
    "            fig.tight_layout()\n",
    "        else:\n",
    "            print(1)\n",
    "            fig, axs = plt.subplots(1, output_num-i)\n",
    "            for j in range(output_num-i):\n",
    "                axs[j].imshow(imgs[i+j])\n",
    "                axs[j].set_title(labels[i+j])\n",
    "            fig.tight_layout()\n",
    "    plt.show()\n",
    "    \n",
    "\n",
    "\n",
    "output_imgs, index = load_img(X_train, y_train, 5)\n",
    "draw_imgs(output_imgs, 5, index)\n",
    "# Visualizations will be shown in the notebook.\n",
    "%matplotlib inline"
   ]
  },
  {
   "cell_type": "markdown",
   "metadata": {},
   "source": [
    "----\n",
    "\n",
    "## Step 2: Design and Test a Model Architecture\n",
    "\n",
    "Design and implement a deep learning model that learns to recognize traffic signs. Train and test your model on the [German Traffic Sign Dataset](http://benchmark.ini.rub.de/?section=gtsrb&subsection=dataset).\n",
    "\n",
    "The LeNet-5 implementation shown in the [classroom](https://classroom.udacity.com/nanodegrees/nd013/parts/fbf77062-5703-404e-b60c-95b78b2f3f9e/modules/6df7ae49-c61c-4bb2-a23e-6527e69209ec/lessons/601ae704-1035-4287-8b11-e2c2716217ad/concepts/d4aca031-508f-4e0b-b493-e7b706120f81) at the end of the CNN lesson is a solid starting point. You'll have to change the number of classes and possibly the preprocessing, but aside from that it's plug and play! \n",
    "\n",
    "With the LeNet-5 solution from the lecture, you should expect a validation set accuracy of about 0.89. To meet specifications, the validation set accuracy will need to be at least 0.93. It is possible to get an even higher accuracy, but 0.93 is the minimum for a successful project submission. \n",
    "\n",
    "There are various aspects to consider when thinking about this problem:\n",
    "\n",
    "- Neural network architecture (is the network over or underfitting?)\n",
    "- Play around preprocessing techniques (normalization, rgb to grayscale, etc)\n",
    "- Number of examples per label (some have more than others).\n",
    "- Generate fake data.\n",
    "\n",
    "Here is an example of a [published baseline model on this problem](http://yann.lecun.com/exdb/publis/pdf/sermanet-ijcnn-11.pdf). It's not required to be familiar with the approach used in the paper but, it's good practice to try to read papers like these."
   ]
  },
  {
   "cell_type": "markdown",
   "metadata": {},
   "source": [
    "### Pre-process the Data Set (normalization, grayscale, etc.)"
   ]
  },
  {
   "cell_type": "markdown",
   "metadata": {},
   "source": [
    "Minimally, the image data should be normalized so that the data has mean zero and equal variance. For image data, `(pixel - 128)/ 128` is a quick way to approximately normalize the data and can be used in this project. \n",
    "\n",
    "Other pre-processing steps are optional. You can try different techniques to see if it improves performance. \n",
    "\n",
    "Use the code cell (or multiple code cells, if necessary) to implement the first step of your project."
   ]
  },
  {
   "cell_type": "code",
   "execution_count": 4,
   "metadata": {
    "collapsed": true
   },
   "outputs": [],
   "source": [
    "### Preprocess the data here. It is required to normalize the data. Other preprocessing steps could include \n",
    "### converting to grayscale, etc.\n",
    "### Feel free to use as many code cells as needed.\n",
    "import cv2\n",
    "\n",
    "# the transform_image function reffers to https://github.com/vxy10/ImageAugmentation\n",
    "# and this is used for transformation a single image.\n",
    "\n",
    "def transform_image(image, ang_range, shear_range, trans_range):\n",
    "    # rotation\n",
    "    ang_rot = np.random.uniform(ang_range) - ang_range/2\n",
    "    rows,cols,ch = image.shape\n",
    "    Rot_M = cv2.getRotationMatrix2D((cols/2, rows/2), ang_rot, 1)\n",
    "    \n",
    "    # translation\n",
    "    tr_x = trans_range*np.random.uniform()-trans_range/2\n",
    "    tr_y = trans_range*np.random.uniform()-trans_range/2\n",
    "    Trans_M = np.float32([[1,0,tr_x],[0,1,tr_y]])\n",
    "    \n",
    "    # Shear\n",
    "    pts1 = np.float32([[5,5],[20,5],[5,20]])\n",
    "    pt1 = 5 + shear_range*np.random.uniform()-shear_range/2\n",
    "    pt2 = 20 + shear_range*np.random.uniform()-shear_range/2\n",
    "    pts2 = np.float32([[pt1,5],[pt2,pt1],[5, pt2]])\n",
    "    \n",
    "    shear_M = cv2.getAffineTransform(pts1, pts2)\n",
    "    img = cv2.warpAffine(image, Rot_M, (cols, rows))\n",
    "    img = cv2.warpAffine(img, Trans_M, (cols, rows))\n",
    "    img = cv2.warpAffine(img, shear_M, (cols, rows))\n",
    "    \n",
    "    return img\n",
    "\n",
    "def img_group(img, num, ang, shear, trans):\n",
    "    imgs = [np.copy(img)]\n",
    "    for i in range(num-1):\n",
    "        img_new = transform_image(img, ang, shear, trans)\n",
    "        imgs.append(img_new)\n",
    "        \n",
    "    return imgs\n",
    "        \n",
    "def augmentation(X_train, y_train):\n",
    "    X_aug = []\n",
    "    y_aug = []\n",
    "    count = [0]*43\n",
    "    temp = []\n",
    "    for i in range(43):\n",
    "        temp.append(np.sum(y_train==i))\n",
    "    limit = max(temp)\n",
    "    for x, y in zip(X_train, y_train):\n",
    "        diff = limit - (np.sum(y_train==y)+count[y]) \n",
    "        if diff > 0:\n",
    "            if diff > limit//3:\n",
    "                num = 10\n",
    "            else:\n",
    "                num = 5\n",
    "            X_aug.append(img_group(x, num=num, ang=20, shear=10, trans=2))\n",
    "            y_group = np.repeat(y, num)\n",
    "            y_aug.append(y_group)\n",
    "            count[y] += num -1\n",
    "        else:\n",
    "            X_aug.append(np.array([x]))\n",
    "            y_aug.append(np.array([y]))\n",
    "            count[y] += 1\n",
    "    X_aug = np.concatenate(X_aug)\n",
    "    y_aug = np.concatenate(y_aug)\n",
    "    print('X_aug shape: {}'.format(X_aug.shape))\n",
    "    print('y_aug shape: {}'.format(y_aug.shape))\n",
    "    \n",
    "    return X_aug, y_aug"
   ]
  },
  {
   "cell_type": "code",
   "execution_count": 5,
   "metadata": {},
   "outputs": [
    {
     "name": "stdout",
     "output_type": "stream",
     "text": [
      "X_aug shape: (83254, 32, 32, 3)\n",
      "y_aug shape: (83254,)\n"
     ]
    }
   ],
   "source": [
    "# preprocess pipeline \n",
    "\n",
    "# 1. transform and augmentation\n",
    "X_train_1, y_train_1 = augmentation(X_train, y_train)\n",
    "beams = [x for x in range(45)]"
   ]
  },
  {
   "cell_type": "code",
   "execution_count": 6,
   "metadata": {},
   "outputs": [
    {
     "data": {
      "image/png": "[encoded data removed]",
      "text/plain": [
       "<matplotlib.figure.Figure at 0x7f5258332390>"
      ]
     },
     "metadata": {},
     "output_type": "display_data"
    }
   ],
   "source": [
    "plt.hist(y_train_1, beams, histtype='bar', width=0.6)\n",
    "plt.xlabel('classes')\n",
    "plt.ylabel('numbers')\n",
    "plt.show()"
   ]
  },
  {
   "cell_type": "code",
   "execution_count": 7,
   "metadata": {},
   "outputs": [
    {
     "name": "stdout",
     "output_type": "stream",
     "text": [
      "1\n"
     ]
    },
    {
     "data": {
      "image/png": "[encoded data removed]",
      "text/plain": [
       "<matplotlib.figure.Figure at 0x7f523c7c7080>"
      ]
     },
     "metadata": {},
     "output_type": "display_data"
    }
   ],
   "source": [
    "imgs = X_train_1[0:6]\n",
    "draw_imgs(imgs, 6, ['img']*6)"
   ]
  },
  {
   "cell_type": "code",
   "execution_count": 8,
   "metadata": {},
   "outputs": [],
   "source": [
    "# 2. normalization\n",
    "X_train = np.array(X_train)/122.5 - 1\n",
    "X_valid = np.array(X_valid)/122.5 -1\n",
    "X_test = np.array(X_test)/122.5 - 1\n",
    "\n"
   ]
  },
  {
   "cell_type": "markdown",
   "metadata": {},
   "source": [
    "With normalization of Xnorm = x/122.5 -1, validation accuracy really increases a lot, comparing with Xnorm = (x-128)/128"
   ]
  },
  {
   "cell_type": "markdown",
   "metadata": {},
   "source": [
    "### Model Architecture"
   ]
  },
  {
   "cell_type": "code",
   "execution_count": 9,
   "metadata": {
    "collapsed": true
   },
   "outputs": [],
   "source": [
    "### Define your architecture here.\n",
    "### Feel free to use as many code cells as needed.\n",
    "### Define your architecture here.\n",
    "### Feel free to use as many code cells as needed.\n",
    "import tensorflow as tf\n",
    "from tensorflow.contrib.layers import flatten\n",
    "\n",
    "def LeNet(x):\n",
    "    mu = 0\n",
    "    sigma = 0.1\n",
    "    # first convolution layer with filter size 5,5,3\n",
    "    # input = 32*32*3 output = 28*28*6\n",
    "    c1_neurs = 6\n",
    "    input_nuers = 3\n",
    "    wc1 = tf.Variable(tf.truncated_normal(shape = (5,5,input_nuers,c1_neurs), mean = mu, stddev = sigma))\n",
    "    bc1 = tf.Variable(tf.zeros(c1_neurs))\n",
    "    stride = 1\n",
    "    conv1 = tf.nn.conv2d(x, wc1, strides = [1,stride,stride,1], padding='VALID') + bc1\n",
    "    conv1 = tf.nn.relu(conv1)\n",
    "    \n",
    "    # Max pooling with input as 28*28*6 and output as 14*14*6\n",
    "    k = 2\n",
    "    conv1_pool = tf.nn.max_pool(conv1, ksize=[1, k, k, 1], strides=[1, k, k, 1], padding='VALID')\n",
    "    conv1_pool = tf.nn.dropout(conv1_pool, keep_prob)\n",
    "    \n",
    "    # Second convolutional layer with filter size 5*5*16\n",
    "    c2_neurs = 16\n",
    "    wc2 = tf.Variable(tf.truncated_normal(shape = (5,5,c1_neurs,c2_neurs), mean = mu, stddev = sigma))\n",
    "    bc2 = tf.Variable(tf.zeros(c2_neurs))\n",
    "    stride = 1\n",
    "    conv2 = tf.nn.conv2d(conv1_pool, wc2, strides = [1,stride,stride,1], padding='VALID') + bc2\n",
    "    conv2 = tf.nn.relu(conv2)\n",
    "                    \n",
    "    # Max pooling with input as 10*10*16 and output as 5*5*16\n",
    "    k = 2\n",
    "    conv2_pool = tf.nn.max_pool(conv2, ksize=[1, k, k, 1], strides=[1, k, k, 1], padding='VALID')\n",
    "    conv2_pool = tf.nn.dropout(conv2_pool, keep_prob)\n",
    "                    \n",
    "    # Flatten \n",
    "    conv2_pool = flatten(conv2_pool)\n",
    "    \n",
    "    # Fully connected layer 1 which has 400 inputs and 120 outputs\n",
    "    wfc1 = tf.Variable(tf.truncated_normal(shape = (400, 120), mean = mu, stddev = sigma))\n",
    "    bfc1 = tf.Variable(tf.zeros(120))\n",
    "    fc1 = tf.add(tf.matmul(conv2_pool, wfc1), bfc1)\n",
    "    fc1 = tf.nn.relu(fc1)\n",
    "    fc1 = tf.nn.dropout(fc1, keep_prob)\n",
    "    \n",
    "    # Fully connected layer 2 which has 120 inputs and 84 outputs\n",
    "    wfc2 = tf.Variable(tf.truncated_normal(shape = (120, 84), mean = mu, stddev = sigma))\n",
    "    bfc2 = tf.Variable(tf.zeros(84))\n",
    "    fc2 = tf.add(tf.matmul(fc1, wfc2), bfc2)\n",
    "    fc2 = tf.nn.relu(fc2)\n",
    "    fc2 = tf.nn.dropout(fc2, keep_prob)\n",
    "                     \n",
    "    # Fully connected layer 3 which has 84 inputs and 43 outputs\n",
    "    wfc3 = tf.Variable(tf.truncated_normal(shape = (84, 43), mean = mu, stddev = sigma))\n",
    "    bfc3 = tf.Variable(tf.zeros(43))\n",
    "    fc3 = tf.add(tf.matmul(fc2, wfc3), bfc3)\n",
    "    logits = fc3\n",
    "    \n",
    "    return logits"
   ]
  },
  {
   "cell_type": "markdown",
   "metadata": {},
   "source": [
    "### Train, Validate and Test the Model"
   ]
  },
  {
   "cell_type": "markdown",
   "metadata": {},
   "source": [
    "A validation set can be used to assess how well the model is performing. A low accuracy on the training and validation\n",
    "sets imply underfitting. A high accuracy on the training set but low accuracy on the validation set implies overfitting."
   ]
  },
  {
   "cell_type": "code",
   "execution_count": 10,
   "metadata": {
    "collapsed": true
   },
   "outputs": [],
   "source": [
    "### Train your model here.\n",
    "### Calculate and report the accuracy on the training and validation set.\n",
    "### Once a final model architecture is selected, \n",
    "### the accuracy on the test set should be calculated and reported as well.\n",
    "### Feel free to use as many code cells as needed.\n",
    "x = tf.placeholder(tf.float32, (None, 32, 32, 3))\n",
    "y = tf.placeholder(tf.int32, (None))\n",
    "y_onehot = tf.one_hot(y, 43)\n",
    "keep_prob = tf.placeholder(tf.float32)"
   ]
  },
  {
   "cell_type": "code",
   "execution_count": 11,
   "metadata": {
    "collapsed": true
   },
   "outputs": [],
   "source": [
    "# Training part\n",
    "learning_rate = 0.0005\n",
    "\n",
    "logits = LeNet(x)\n",
    "cross_entropy = tf.nn.softmax_cross_entropy_with_logits(labels=y_onehot, logits=logits)\n",
    "loss_operation = tf.reduce_mean(cross_entropy)\n",
    "optimizer = tf.train.AdamOptimizer(learning_rate = learning_rate)\n",
    "training_operation = optimizer.minimize(loss_operation)"
   ]
  },
  {
   "cell_type": "markdown",
   "metadata": {},
   "source": [
    "## Evaluation "
   ]
  },
  {
   "cell_type": "code",
   "execution_count": 12,
   "metadata": {
    "collapsed": true
   },
   "outputs": [],
   "source": [
    "correct_prediction = tf.equal(tf.argmax(logits, 1), tf.argmax(y_onehot, 1))\n",
    "accuracy_operation = tf.reduce_mean(tf.cast(correct_prediction, tf.float32))\n",
    "saver = tf.train.Saver()\n",
    "\n",
    "def evaluate(X_data, y_data):\n",
    "    num_examples = len(X_data)\n",
    "    total_accuracy = 0\n",
    "    sess = tf.get_default_session()\n",
    "    for offset in range(0, num_examples, BATCH_SIZE):\n",
    "        batch_x, batch_y = X_data[offset:offset+BATCH_SIZE], y_data[offset:offset+BATCH_SIZE]\n",
    "        accuracy = sess.run(accuracy_operation, feed_dict={x: batch_x, y: batch_y, keep_prob: 1.0})\n",
    "        total_accuracy += (accuracy * len(batch_x))\n",
    "    return total_accuracy / num_examples"
   ]
  },
  {
   "cell_type": "markdown",
   "metadata": {},
   "source": [
    "## Train pipeline"
   ]
  },
  {
   "cell_type": "code",
   "execution_count": 13,
   "metadata": {},
   "outputs": [
    {
     "name": "stdout",
     "output_type": "stream",
     "text": [
      "Training...\n",
      "EPOCH: 1 Train Accuracy: 0.447 Valid Accuracy: 0.394 Trainging time: 3.1213\n",
      "EPOCH: 2 Train Accuracy: 0.633 Valid Accuracy: 0.578 Trainging time: 2.7347\n",
      "EPOCH: 3 Train Accuracy: 0.740 Valid Accuracy: 0.700 Trainging time: 2.7390\n",
      "EPOCH: 4 Train Accuracy: 0.815 Valid Accuracy: 0.770 Trainging time: 2.7332\n",
      "EPOCH: 5 Train Accuracy: 0.857 Valid Accuracy: 0.810 Trainging time: 2.7346\n",
      "EPOCH: 6 Train Accuracy: 0.887 Valid Accuracy: 0.841 Trainging time: 2.7388\n",
      "EPOCH: 7 Train Accuracy: 0.897 Valid Accuracy: 0.842 Trainging time: 2.7314\n",
      "EPOCH: 8 Train Accuracy: 0.918 Valid Accuracy: 0.871 Trainging time: 2.7368\n",
      "EPOCH: 9 Train Accuracy: 0.930 Valid Accuracy: 0.871 Trainging time: 2.7315\n",
      "EPOCH: 10 Train Accuracy: 0.937 Valid Accuracy: 0.883 Trainging time: 2.7350\n",
      "EPOCH: 11 Train Accuracy: 0.942 Valid Accuracy: 0.885 Trainging time: 2.7327\n",
      "EPOCH: 12 Train Accuracy: 0.943 Valid Accuracy: 0.883 Trainging time: 2.7348\n",
      "EPOCH: 13 Train Accuracy: 0.952 Valid Accuracy: 0.890 Trainging time: 2.7371\n",
      "EPOCH: 14 Train Accuracy: 0.954 Valid Accuracy: 0.902 Trainging time: 2.7236\n",
      "EPOCH: 15 Train Accuracy: 0.959 Valid Accuracy: 0.909 Trainging time: 2.7358\n",
      "EPOCH: 16 Train Accuracy: 0.963 Valid Accuracy: 0.914 Trainging time: 2.7340\n",
      "EPOCH: 17 Train Accuracy: 0.964 Valid Accuracy: 0.916 Trainging time: 2.7364\n",
      "EPOCH: 18 Train Accuracy: 0.967 Valid Accuracy: 0.917 Trainging time: 2.7313\n",
      "EPOCH: 19 Train Accuracy: 0.968 Valid Accuracy: 0.915 Trainging time: 2.7347\n",
      "EPOCH: 20 Train Accuracy: 0.969 Valid Accuracy: 0.923 Trainging time: 2.7396\n",
      "EPOCH: 21 Train Accuracy: 0.971 Valid Accuracy: 0.920 Trainging time: 2.7342\n",
      "EPOCH: 22 Train Accuracy: 0.973 Valid Accuracy: 0.921 Trainging time: 2.7392\n",
      "EPOCH: 23 Train Accuracy: 0.974 Valid Accuracy: 0.926 Trainging time: 2.7282\n",
      "EPOCH: 24 Train Accuracy: 0.975 Valid Accuracy: 0.927 Trainging time: 2.7336\n",
      "EPOCH: 25 Train Accuracy: 0.977 Valid Accuracy: 0.931 Trainging time: 2.7320\n",
      "EPOCH: 26 Train Accuracy: 0.977 Valid Accuracy: 0.932 Trainging time: 2.7320\n",
      "EPOCH: 27 Train Accuracy: 0.977 Valid Accuracy: 0.929 Trainging time: 2.7339\n",
      "EPOCH: 28 Train Accuracy: 0.980 Valid Accuracy: 0.928 Trainging time: 2.7191\n",
      "EPOCH: 29 Train Accuracy: 0.981 Valid Accuracy: 0.934 Trainging time: 2.7300\n",
      "EPOCH: 30 Train Accuracy: 0.981 Valid Accuracy: 0.935 Trainging time: 2.7366\n",
      "EPOCH: 31 Train Accuracy: 0.983 Valid Accuracy: 0.932 Trainging time: 2.7383\n",
      "EPOCH: 32 Train Accuracy: 0.981 Valid Accuracy: 0.935 Trainging time: 2.7334\n",
      "EPOCH: 33 Train Accuracy: 0.982 Valid Accuracy: 0.941 Trainging time: 2.7342\n",
      "EPOCH: 34 Train Accuracy: 0.982 Valid Accuracy: 0.937 Trainging time: 2.7372\n",
      "EPOCH: 35 Train Accuracy: 0.980 Valid Accuracy: 0.931 Trainging time: 2.7329\n",
      "EPOCH: 36 Train Accuracy: 0.983 Valid Accuracy: 0.940 Trainging time: 2.7301\n",
      "EPOCH: 37 Train Accuracy: 0.983 Valid Accuracy: 0.938 Trainging time: 2.7166\n",
      "EPOCH: 38 Train Accuracy: 0.985 Valid Accuracy: 0.940 Trainging time: 2.7293\n",
      "EPOCH: 39 Train Accuracy: 0.985 Valid Accuracy: 0.936 Trainging time: 2.7209\n",
      "EPOCH: 40 Train Accuracy: 0.983 Valid Accuracy: 0.937 Trainging time: 2.7211\n",
      "EPOCH: 41 Train Accuracy: 0.986 Valid Accuracy: 0.939 Trainging time: 2.7208\n",
      "EPOCH: 42 Train Accuracy: 0.985 Valid Accuracy: 0.936 Trainging time: 2.7223\n",
      "EPOCH: 43 Train Accuracy: 0.985 Valid Accuracy: 0.938 Trainging time: 2.7239\n",
      "EPOCH: 44 Train Accuracy: 0.985 Valid Accuracy: 0.941 Trainging time: 2.7219\n",
      "EPOCH: 45 Train Accuracy: 0.983 Valid Accuracy: 0.941 Trainging time: 2.7203\n",
      "EPOCH: 46 Train Accuracy: 0.987 Valid Accuracy: 0.946 Trainging time: 2.7268\n",
      "EPOCH: 47 Train Accuracy: 0.988 Valid Accuracy: 0.947 Trainging time: 2.7175\n",
      "EPOCH: 48 Train Accuracy: 0.988 Valid Accuracy: 0.949 Trainging time: 2.7159\n",
      "EPOCH: 49 Train Accuracy: 0.987 Valid Accuracy: 0.943 Trainging time: 2.6953\n",
      "EPOCH: 50 Train Accuracy: 0.986 Valid Accuracy: 0.946 Trainging time: 2.7221\n",
      "Model saved.\n"
     ]
    }
   ],
   "source": [
    "import time\n",
    "\n",
    "EPOCHS = 50\n",
    "BATCH_SIZE = 128\n",
    "num_examples = len(X_train)\n",
    "\n",
    "train_count = []\n",
    "valid_count = []\n",
    "loss_count = []\n",
    "\n",
    "with tf.Session() as sess:\n",
    "    init = tf.global_variables_initializer()\n",
    "    sess.run(init)\n",
    "    \n",
    "    print('Training...')\n",
    "    for i in range(EPOCHS):\n",
    "        X_train, y_train = shuffle(X_train, y_train)\n",
    "        t1 = time.time()\n",
    "        for offset in range(0, num_examples, BATCH_SIZE):\n",
    "            batch_x, batch_y = X_train[offset:offset+BATCH_SIZE], y_train[offset:offset+BATCH_SIZE]\n",
    "            sess.run(training_operation, feed_dict={x:batch_x, y:batch_y, keep_prob: 0.65})\n",
    "        t2 = time.time()\n",
    "        train_acc = evaluate(X_train, y_train)\n",
    "        valic_acc = evaluate(X_valid, y_valid)\n",
    "        train_count.append(train_acc)\n",
    "        valid_count.append(valic_acc)\n",
    "        print('EPOCH: {}'.format(i+1), 'Train Accuracy: {:.3f}'.format(train_acc),\n",
    "              'Valid Accuracy: {:.3f}'.format(valic_acc), 'Trainging time: {:.4f}'.format(t2-t1))\n",
    "    saver.save(sess, './trained_model')\n",
    "    print('Model saved.')"
   ]
  },
  {
   "cell_type": "code",
   "execution_count": 14,
   "metadata": {},
   "outputs": [
    {
     "data": {
      "image/png": "[encoded data removed]",
      "text/plain": [
       "<matplotlib.figure.Figure at 0x7f51c12b3978>"
      ]
     },
     "metadata": {},
     "output_type": "display_data"
    }
   ],
   "source": [
    "# show training accuracy and validation accuracy\n",
    "plt.figure(1)\n",
    "plt.plot(range(EPOCHS), train_count, label='Training Accuracy')\n",
    "plt.plot(range(EPOCHS), valid_count, label='Validation Accuracy')\n",
    "plt.legend()\n",
    "plt.show()"
   ]
  },
  {
   "cell_type": "markdown",
   "metadata": {},
   "source": [
    "# Test set prediction"
   ]
  },
  {
   "cell_type": "markdown",
   "metadata": {},
   "source": [
    "### Predict the Sign Type for Each Image"
   ]
  },
  {
   "cell_type": "code",
   "execution_count": 15,
   "metadata": {},
   "outputs": [
    {
     "name": "stdout",
     "output_type": "stream",
     "text": [
      "Test Accuracy = 0.940\n"
     ]
    }
   ],
   "source": [
    "### Run the predictions here and use the model to output the prediction for each image.\n",
    "### Make sure to pre-process the images with the same pre-processing pipeline used earlier.\n",
    "### Feel free to use as many code cells as needed.\n",
    "\n",
    "with tf.Session() as sess:\n",
    "    saver.restore(sess, tf.train.latest_checkpoint('.'))\n",
    "    prediction = sess.run(tf.argmax(logits, 1), feed_dict={x:X_test, keep_prob:1})\n",
    "    test_accuracy = sess.run(accuracy_operation, feed_dict={x:X_test, y:y_test, keep_prob:1})\n",
    "    print(\"Test Accuracy = {:.3f}\".format(test_accuracy))"
   ]
  },
  {
   "cell_type": "markdown",
   "metadata": {},
   "source": [
    "---\n",
    "\n",
    "## Step 3: Test a Model on New Images\n",
    "\n",
    "To give yourself more insight into how your model is working, download at least five pictures of German traffic signs from the web and use your model to predict the traffic sign type.\n",
    "\n",
    "You may find `signnames.csv` useful as it contains mappings from the class id (integer) to the actual sign name."
   ]
  },
  {
   "cell_type": "markdown",
   "metadata": {},
   "source": [
    "### Load and Output the Images"
   ]
  },
  {
   "cell_type": "code",
   "execution_count": 16,
   "metadata": {},
   "outputs": [
    {
     "name": "stdout",
     "output_type": "stream",
     "text": [
      "1\n"
     ]
    },
    {
     "data": {
      "image/png": "[encoded data removed]",
      "text/plain": [
       "<matplotlib.figure.Figure at 0x7f51f9234278>"
      ]
     },
     "metadata": {},
     "output_type": "display_data"
    },
    {
     "name": "stdout",
     "output_type": "stream",
     "text": [
      "raw image shape:  [(225, 225, 3), (194, 259, 3), (194, 259, 3), (194, 259, 3), (220, 229, 3)]\n",
      "1\n"
     ]
    },
    {
     "data": {
      "image/png": "[encoded data removed]",
      "text/plain": [
       "<matplotlib.figure.Figure at 0x7f51e2f81e80>"
      ]
     },
     "metadata": {},
     "output_type": "display_data"
    }
   ],
   "source": [
    "### Load the images and plot them here.\n",
    "### Feel free to use as many code cells as needed.\n",
    "\n",
    "# loading images\n",
    "import glob\n",
    "import matplotlib.image as mpimg\n",
    "import matplotlib.pyplot as plt\n",
    "import cv2\n",
    "#from subprocess import check_output\n",
    "#print(check_output([\"ls\", \"./\"]).decode(\"utf8\"))\n",
    "\n",
    "address = glob.glob('./testimg/*.jpg')\n",
    "raw_imgs = []\n",
    "pres_imgs = []\n",
    "pic_size = []\n",
    "for i in range(len(address)):\n",
    "    raw_img = mpimg.imread(address[i]) \n",
    "    raw_imgs.append(raw_img)\n",
    "    pic_size.append(raw_img.shape)\n",
    "    cut_img = cv2.resize(raw_img, (32,32))\n",
    "    pres_imgs.append(cut_img)\n",
    "    \n",
    "draw_imgs(raw_imgs, 5, labels = ['test_raw']*5)\n",
    "print('raw image shape: ', pic_size)\n",
    "draw_imgs(pres_imgs, 5, labels = ['test_pres']*5)\n",
    "\n",
    "#pres_imgs = np.asarray(pres_imgs)\n",
    "\n",
    "# normalization of test images\n",
    "pres_imgs = np.array(pres_imgs)/122.5-1"
   ]
  },
  {
   "cell_type": "markdown",
   "metadata": {},
   "source": [
    "### Predict the Sign Type for Each Image"
   ]
  },
  {
   "cell_type": "code",
   "execution_count": 17,
   "metadata": {},
   "outputs": [
    {
     "name": "stdout",
     "output_type": "stream",
     "text": [
      "the predictions of all test images are:  [33 12 40 38  2]\n"
     ]
    }
   ],
   "source": [
    "# predict the class of those images\n",
    "with tf.Session() as sess:\n",
    "    saver = tf.train.import_meta_graph('./trained_model.meta')\n",
    "    saver.restore(sess, tf.train.latest_checkpoint('.'))\n",
    "    prediction = sess.run(tf.argmax(logits,1), feed_dict={x: pres_imgs, keep_prob:1})\n",
    "    print('the predictions of all test images are: ', prediction)"
   ]
  },
  {
   "cell_type": "markdown",
   "metadata": {},
   "source": [
    "### Analyze Performance"
   ]
  },
  {
   "cell_type": "markdown",
   "metadata": {},
   "source": [
    "From SignName.csv file, we can tell what the predictions mean:\n",
    "\n",
    "33: Turn right ahead\n",
    "\n",
    "12: Priority road\n",
    "\n",
    "40: Roundabout mandatory\n",
    "\n",
    "38: Keep right\n",
    "\n",
    "3:  Speed limit (60km/h)\n",
    "\n",
    "With referring the true meaning of these signs, the prediction result is 100% correct."
   ]
  },
  {
   "cell_type": "code",
   "execution_count": 18,
   "metadata": {
    "collapsed": true
   },
   "outputs": [],
   "source": [
    "### Calculate the accuracy for these 5 new images. \n",
    "### For example, if the model predicted 1 out of 5 signs correctly, it's 20% accurate on these new images.\n"
   ]
  },
  {
   "cell_type": "markdown",
   "metadata": {},
   "source": [
    "### Output Top 5 Softmax Probabilities For Each Image Found on the Web"
   ]
  },
  {
   "cell_type": "markdown",
   "metadata": {},
   "source": [
    "For each of the new images, print out the model's softmax probabilities to show the **certainty** of the model's predictions (limit the output to the top 5 probabilities for each image). [`tf.nn.top_k`](https://www.tensorflow.org/versions/r0.12/api_docs/python/nn.html#top_k) could prove helpful here. \n",
    "\n",
    "The example below demonstrates how tf.nn.top_k can be used to find the top k predictions for each image.\n",
    "\n",
    "`tf.nn.top_k` will return the values and indices (class ids) of the top k predictions. So if k=3, for each sign, it'll return the 3 largest probabilities (out of a possible 43) and the correspoding class ids.\n",
    "\n",
    "Take this numpy array as an example. The values in the array represent predictions. The array contains softmax probabilities for five candidate images with six possible classes. `tk.nn.top_k` is used to choose the three classes with the highest probability:\n",
    "\n",
    "```\n",
    "# (5, 6) array\n",
    "a = np.array([[ 0.24879643,  0.07032244,  0.12641572,  0.34763842,  0.07893497,\n",
    "         0.12789202],\n",
    "       [ 0.28086119,  0.27569815,  0.08594638,  0.0178669 ,  0.18063401,\n",
    "         0.15899337],\n",
    "       [ 0.26076848,  0.23664738,  0.08020603,  0.07001922,  0.1134371 ,\n",
    "         0.23892179],\n",
    "       [ 0.11943333,  0.29198961,  0.02605103,  0.26234032,  0.1351348 ,\n",
    "         0.16505091],\n",
    "       [ 0.09561176,  0.34396535,  0.0643941 ,  0.16240774,  0.24206137,\n",
    "         0.09155967]])\n",
    "```\n",
    "\n",
    "Running it through `sess.run(tf.nn.top_k(tf.constant(a), k=3))` produces:\n",
    "\n",
    "```\n",
    "TopKV2(values=array([[ 0.34763842,  0.24879643,  0.12789202],\n",
    "       [ 0.28086119,  0.27569815,  0.18063401],\n",
    "       [ 0.26076848,  0.23892179,  0.23664738],\n",
    "       [ 0.29198961,  0.26234032,  0.16505091],\n",
    "       [ 0.34396535,  0.24206137,  0.16240774]]), indices=array([[3, 0, 5],\n",
    "       [0, 1, 4],\n",
    "       [0, 5, 1],\n",
    "       [1, 3, 5],\n",
    "       [1, 4, 3]], dtype=int32))\n",
    "```\n",
    "\n",
    "Looking just at the first row we get `[ 0.34763842,  0.24879643,  0.12789202]`, you can confirm these are the 3 largest probabilities in `a`. You'll also notice `[3, 0, 5]` are the corresponding indices."
   ]
  },
  {
   "cell_type": "code",
   "execution_count": 19,
   "metadata": {},
   "outputs": [
    {
     "name": "stdout",
     "output_type": "stream",
     "text": [
      "TopKV2(values=array([[  9.99996066e-01,   3.80132497e-06,   7.47531246e-08,\n",
      "          3.65640958e-08,   1.42396157e-08],\n",
      "       [  1.00000000e+00,   2.31444997e-08,   4.21290913e-09,\n",
      "          6.69189260e-10,   5.33168121e-10],\n",
      "       [  9.99912739e-01,   6.00886342e-05,   2.34959753e-05,\n",
      "          3.10890323e-06,   2.22645582e-07],\n",
      "       [  9.89525795e-01,   1.04067978e-02,   3.69235058e-05,\n",
      "          2.28659101e-05,   5.33266393e-06],\n",
      "       [  9.63347018e-01,   3.06928363e-02,   5.76005690e-03,\n",
      "          2.00123031e-04,   8.80640805e-09]], dtype=float32), indices=array([[33, 40, 35, 39, 11],\n",
      "       [12, 17, 10, 42, 29],\n",
      "       [40, 37, 38, 39, 18],\n",
      "       [38, 34, 40, 35, 36],\n",
      "       [ 2,  3,  5,  1, 31]], dtype=int32))\n"
     ]
    }
   ],
   "source": [
    "### Print out the top five softmax probabilities for the predictions on the German traffic sign images found on the web. \n",
    "### Feel free to use as many code cells as needed.\n",
    "with tf.Session() as sess:\n",
    "    saver.restore(sess, tf.train.latest_checkpoint('.'))\n",
    "    soft_max = sess.run(tf.nn.top_k(tf.nn.softmax(logits), k=5), feed_dict={x:pres_imgs, keep_prob:1})\n",
    "    print(soft_max)"
   ]
  },
  {
   "cell_type": "markdown",
   "metadata": {},
   "source": [
    "### Project Writeup\n",
    "\n",
    "Once you have completed the code implementation, document your results in a project writeup using this [template](https://github.com/udacity/CarND-Traffic-Sign-Classifier-Project/blob/master/writeup_template.md) as a guide. The writeup can be in a markdown or pdf file. "
   ]
  },
  {
   "cell_type": "markdown",
   "metadata": {},
   "source": [
    "> **Note**: Once you have completed all of the code implementations and successfully answered each question above, you may finalize your work by exporting the iPython Notebook as an HTML document. You can do this by using the menu above and navigating to  \\n\",\n",
    "    \"**File -> Download as -> HTML (.html)**. Include the finished document along with this notebook as your submission."
   ]
  }
 ],
 "metadata": {
  "anaconda-cloud": {},
  "kernelspec": {
   "display_name": "Python 3",
   "language": "python",
   "name": "python3"
  },
  "language_info": {
   "codemirror_mode": {
    "name": "ipython",
    "version": 3
   },
   "file_extension": ".py",
   "mimetype": "text/x-python",
   "name": "python",
   "nbconvert_exporter": "python",
   "pygments_lexer": "ipython3",
   "version": "3.5.2"
  },
  "widgets": {
   "state": {},
   "version": "1.1.2"
  }
 },
 "nbformat": 4,
 "nbformat_minor": 1
}
